{
 "cells": [
  {
   "cell_type": "code",
   "execution_count": 1,
   "metadata": {},
   "outputs": [],
   "source": [
    "import pandas as pd\n",
    "import numpy as np\n",
    "import matplotlib.pyplot as plt\n",
    "import seaborn as sns\n",
    "import os"
   ]
  },
  {
   "cell_type": "markdown",
   "metadata": {},
   "source": [
    "### Device comparison for single session, single user data"
   ]
  },
  {
   "cell_type": "code",
   "execution_count": 6,
   "metadata": {},
   "outputs": [
    {
     "data": {
      "text/plain": [
       "['20240704104847',\n",
       " '20240703154523',\n",
       " '20240704174252',\n",
       " '20240704171216',\n",
       " '20240704172312',\n",
       " '20240703155754',\n",
       " '20240704162626',\n",
       " '20240709172036',\n",
       " '20240705095919',\n",
       " '20240703155415',\n",
       " '20240703153951',\n",
       " '20240704173137',\n",
       " '20240703153627',\n",
       " '20240705101301',\n",
       " '20240703160553',\n",
       " '20240704111010',\n",
       " '20240704105949',\n",
       " '20240704165518']"
      ]
     },
     "execution_count": 6,
     "metadata": {},
     "output_type": "execute_result"
    }
   ],
   "source": [
    "# get all exp ids from logs folder\n",
    "logs_directory = os.path.join(os.pardir, 'logs')\n",
    "exp_ids = [f for f in os.listdir(logs_directory) if os.path.isdir(f) and f.startswith('2024')]\n",
    "exp_ids\n",
    "\n"
   ]
  },
  {
   "cell_type": "code",
   "execution_count": null,
   "metadata": {},
   "outputs": [],
   "source": [
    "def expids_from_agents(n_agents):\n",
    "    for expid in exp_ids:\n",
    "        if expid.count('_') == n_agents-1:\n",
    "            yield expid\n",
    "    path = os.path.join(logs_directory, exp_ids[0])"
   ]
  },
  {
   "cell_type": "code",
   "execution_count": null,
   "metadata": {},
   "outputs": [],
   "source": [
    "#read in metrics data in app/logs/[experiment date]\n",
    "date_range = ['20240709172036']\n"
   ]
  },
  {
   "cell_type": "code",
   "execution_count": null,
   "metadata": {},
   "outputs": [],
   "source": []
  },
  {
   "cell_type": "code",
   "execution_count": null,
   "metadata": {},
   "outputs": [],
   "source": []
  }
 ],
 "metadata": {
  "kernelspec": {
   "display_name": "Python 3",
   "language": "python",
   "name": "python3"
  },
  "language_info": {
   "codemirror_mode": {
    "name": "ipython",
    "version": 3
   },
   "file_extension": ".py",
   "mimetype": "text/x-python",
   "name": "python",
   "nbconvert_exporter": "python",
   "pygments_lexer": "ipython3",
   "version": "3.10.14"
  }
 },
 "nbformat": 4,
 "nbformat_minor": 2
}
